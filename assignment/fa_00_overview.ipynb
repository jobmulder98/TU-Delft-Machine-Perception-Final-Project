{
 "cells": [
  {
   "cell_type": "markdown",
   "id": "101620b7",
   "metadata": {
    "deletable": false,
    "editable": false,
    "nbgrader": {
     "cell_type": "markdown",
     "checksum": "5d8b4c5284fd2afe0f490154a0d3e2a1",
     "grade": false,
     "grade_id": "cell-e5984d89a171e605",
     "locked": true,
     "schema_version": 3,
     "solution": false,
     "task": false
    }
   },
   "source": [
    "# Intelligent Vehicles (ME41106) / Machine Perception (RO47004) Final Assignment\n",
    "* (c) TU Delft, 2021\n",
    "* Period: 2021-2022, Q2"
   ]
  },
  {
   "cell_type": "markdown",
   "id": "7be20866",
   "metadata": {
    "deletable": false,
    "editable": false,
    "nbgrader": {
     "cell_type": "markdown",
     "checksum": "14cbc4c0cf0750a7937e09d7ded0185e",
     "grade": false,
     "grade_id": "cell-d3f0041a0834b35c",
     "locked": true,
     "schema_version": 3,
     "solution": false,
     "task": false
    }
   },
   "source": [
    "Make sure you fill in any place that says `YOUR CODE HERE` or `YOUR ANSWER HERE`. Moreover, if you see an empty cell, please DO NOT delete it, instead run that cell as you would run all other cells. Please fill in your name(s) and other required details below:"
   ]
  },
  {
   "cell_type": "code",
   "execution_count": 1,
   "id": "dffed800",
   "metadata": {
    "deletable": false,
    "nbgrader": {
     "cell_type": "code",
     "checksum": "2cfb8722128ba466cd6a201afd4d2550",
     "grade": false,
     "grade_id": "cell-10cbbd705739ac0f",
     "locked": false,
     "schema_version": 3,
     "solution": true,
     "task": false
    }
   },
   "outputs": [],
   "source": [
    "STUDENT_NAME = \"Job Mulder\"\n",
    "STUDENT_NUMBER = \"4538323\"\n",
    "COURSE_TYPE = \"MP\"  # choose \"IV\" (ME41106), or \"MP\" (RO47004)\n",
    "RUN_ALL = False # You can leave this setting to 'False'\n",
    "# fill variables above and remove the NotImplementedError() below\n",
    "# YOUR CODE HERE\n",
    "# raise NotImplementedError()"
   ]
  },
  {
   "cell_type": "code",
   "execution_count": 2,
   "id": "44789b12",
   "metadata": {
    "deletable": false,
    "editable": false,
    "nbgrader": {
     "cell_type": "code",
     "checksum": "827d440d88a0b72be3fd43b47afd8f5d",
     "grade": true,
     "grade_id": "cell-c35e4c8223095209",
     "locked": true,
     "points": 0,
     "schema_version": 3,
     "solution": false,
     "task": false
    }
   },
   "outputs": [],
   "source": [
    "# Note: this block is a check that you have filled in the above information.\n",
    "# It will throw an AssertionError until all fields are filled\n",
    "assert STUDENT_NAME != \"\"\n",
    "assert STUDENT_NUMBER != \"\"\n",
    "assert COURSE_TYPE in {\"IV\", \"MP\"}, 'Set COURSE_TYPE to \"IV\" or \"MP\"'"
   ]
  },
  {
   "cell_type": "markdown",
   "id": "0fc4312c",
   "metadata": {
    "deletable": false,
    "editable": false,
    "nbgrader": {
     "cell_type": "markdown",
     "checksum": "34a85177a6e33232939249d2fc830537",
     "grade": false,
     "grade_id": "cell-71566d7fa962d575",
     "locked": true,
     "schema_version": 3,
     "solution": false,
     "task": false
    }
   },
   "source": [
    "### Pledge\n",
    "**I will not**\n",
    "* discuss the content of this assignment with anyone else apart from the instructor team or the Examination Board (upon appeal)\n",
    "* use solution concepts/code from others. I understand that passing the work of others as my own’s constitutes scientific fraud - even if it is just one line of code (the sole exception to this is the use of concepts/code that were produced in the practica by my own practicum partner; this is allowed). \n",
    "* make my own solution concepts/code available to others (neither before nor after the submission deadline) - this includes dissemination via the internet, social media or WhatsApp groups. I understand that unauthorized sharing of solution concepts/code will be considered as abetting scientific fraud.\n",
    "* re-distribute any parts of the assignment text (neither before nor after the submission deadline) -  this includes dissemination via the internet, social media or WhatsApp groups. I understand that unauthorized re-distribution of the assignment text constitutes copyright infringement. \n",
    "\n",
    "**I understand that**\n",
    "* automatic code plagiarism checks will be employed for all submissions possibly augmented with \"manual\" checks. I understand that cases with a suspicion of (abetting) scientific fraud will always be forwarded to the Examination Board (penalties include exclusion from the course, inclusion in an  academic dishonesty registry, and even removal from the MSc program)\n",
    "* cases with copyright infringement will be pursued by the copyright owner(s)\n",
    "\n",
    "**I agree**\n",
    "(please sign with your name in cell below)"
   ]
  },
  {
   "cell_type": "code",
   "execution_count": 3,
   "id": "9ee6a290",
   "metadata": {
    "deletable": false,
    "nbgrader": {
     "cell_type": "code",
     "checksum": "35adf73bd0c7c63dda996e7d89b14b70",
     "grade": false,
     "grade_id": "cell-71566d7fa962d576",
     "locked": false,
     "schema_version": 3,
     "solution": true,
     "task": false
    }
   },
   "outputs": [],
   "source": [
    "SIGNED_NAME = \"Job Mulder\"  # Add your name here to agree to above points (same as STUDENT_NAME above)\n",
    "# YOUR CODE HERE\n",
    "# raise NotImplementedError()"
   ]
  },
  {
   "cell_type": "code",
   "execution_count": 4,
   "id": "00c3b1b3",
   "metadata": {
    "deletable": false,
    "editable": false,
    "nbgrader": {
     "cell_type": "code",
     "checksum": "a142022cd061412cb04065f8672f940a",
     "grade": true,
     "grade_id": "cell-71566d7fa962d577",
     "locked": true,
     "points": 0,
     "schema_version": 3,
     "solution": false,
     "task": false
    }
   },
   "outputs": [],
   "source": [
    "assert SIGNED_NAME == STUDENT_NAME"
   ]
  },
  {
   "cell_type": "markdown",
   "id": "19e45e9f",
   "metadata": {
    "deletable": false,
    "editable": false,
    "nbgrader": {
     "cell_type": "markdown",
     "checksum": "106639efe60bda6c21542221503a9813",
     "grade": false,
     "grade_id": "cell-71566d7fa962d578",
     "locked": true,
     "schema_version": 3,
     "solution": false,
     "task": false
    }
   },
   "source": [
    "### General announcements\n",
    "\n",
    "* There are no groups for the final assignment. It's an _individual_ assessment.\n",
    "* Academic integrity is a high good at TU Delft. You need to sign the pledge above.\n",
    "* The assignment is part of the _assessment_, meaning that there is no longer an opportunity to ask questions about the contents on Brightspace or during the lab hours.\n",
    "\n",
    "### Submission guidelines\n",
    "\n",
    "* There is a strict deadline for the final assignment (see *Final Assignment* section below). You are responsible to ensure that you have submitted in time. So, please double check that your upload succeeded to Brightspace and that you uploaded the correct files. For late submissions, one grade point is subtracted per day (max. 2 days).\n",
    "\n",
    "* It is possible to submit multiple versions of the final assignment. However, only your last submission is kept by Brightspace and will be graded. Note that re-submitting after the deadline activates the late-policy!\n",
    "\n",
    "* **Only submit the `*.ipynb` files and nothing else.** ZIP files are not allowed and will be rejected by Brightspace.\n",
    "* **Also submit the practica 1, 2 and/or 3 `*.ipynb` files if you are reusing functions from those via `ipynb` imports.**\n",
    "* You can copy functions/code from your practica. In that case, please **mark the copied code as such** (via a comment). Reuse of code (e.g., via `ipynb` imports) is preferred over code duplication.\n",
    "* Your code must not use internet connection (to download files or similar).\n",
    "* Clear the output of your jupyter notebooks via (Cell $\\rightarrow$ All Output $\\rightarrow$ Clear), and save the notebook afterwards.\n",
    "* Submit your `release/*/*.ipynb` files in the course you are following. So in case of IV, submit your files on the IV Brightspace page. In case of MP, submit your files on the MP Brightspace page.\n",
    "\n",
    "### Working with Jupyter\n",
    "\n",
    "* This [Jupyter notebook](https://jupyter.org/) uses `nbgrader` to help us with automated tests. `nbgrader` will make various cells in this notebook \"uneditable\" or \"unremovable\" and gives them a special id in the cell metadata. This way, when we run our checks, the system will check the existence of the cell ids and verify the number of points and which checks must be run. While there are ways that you can edit the metadata and work around the restrictions to delete or modify these special cells, you should not do that since then our nbgrader backend will not be able to parse your notebook and give you points for the assignment. You are free to add additional cells, but if you find a cell that you cannot modify or remove, please know that this is on purpose.\n",
    "\n",
    "* This notebook will have in various places a line that throws a `NotImplementedError` exception. These are locations where the assignment requires you to adapt the code! These lines are just there as a reminder for you that you have not yet adapted that particular piece of code, especially when you execute all the cells. Once your solution code replaced these lines, it should accordingly *not* throw any exceptions anymore. Any grading failure due to such reasons would be considered as a failure of that particular assignment.\n",
    "\n",
    "* Before you turn this problem in, make sure everything runs as expected. First, **restart the kernel** (in the menubar, select Kernel $\\rightarrow$ Restart) and then **run all cells** (in the menubar, select Cell $\\rightarrow$ Run All). Also **clear all outputs** from your cells before submitting (select Cell $\\rightarrow$ All Output $\\rightarrow$ Clear). Please **save the notebook** file afterwards (Ctrl+s, or File $\\rightarrow$ Save and Checkpoint)"
   ]
  },
  {
   "cell_type": "markdown",
   "id": "bb10b872",
   "metadata": {
    "deletable": false,
    "editable": false,
    "nbgrader": {
     "cell_type": "markdown",
     "checksum": "dff5ddc0a1ef1726be4a47702d9940c9",
     "grade": false,
     "grade_id": "cell-1534a410386a0998",
     "locked": true,
     "points": 0,
     "schema_version": 3,
     "solution": false,
     "task": true
    }
   },
   "source": [
    "# Final Assignment\n",
    "\n",
    "\n",
    "- Deadline: Monday, 10 January 2022 at 10:45 CET\n",
    "- Dataset: View-of-Delft \n",
    "- Sensors: mono camera, LiDAR, radar\n",
    "\n",
    "## Modules\n",
    "- [10 pts.] Module 1a \"Data Visualization\" (**MP and IV**)\n",
    "- [35 pts.] Module 2a \"3D Pedestrian Detection based on a Single Camera\" (**MP and IV**)\n",
    "- [25 pts.] Module 2b \"3D Pedestrian Detection based on Multiple Sensors\" (**MP only**)\n",
    "- don't worry about the missing Module 3 :)\n",
    "- [25 pts.] Module 4 \"Motion Planning\" (**IV only**)"
   ]
  },
  {
   "cell_type": "markdown",
   "id": "c3da3b68",
   "metadata": {
    "deletable": false,
    "editable": false,
    "nbgrader": {
     "cell_type": "markdown",
     "checksum": "961df580ad8535f8de98bb746bb3c2c9",
     "grade": false,
     "grade_id": "cell-ee6c254082e9cca4",
     "locked": true,
     "points": 0,
     "schema_version": 3,
     "solution": false,
     "task": true
    }
   },
   "source": [
    "## Objectives\n",
    "\n",
    "This assignment makes you apply the knowledge you gained thoughout the three practica to detect pedestrians in 3D.\n",
    "**IV only**: Given the pedestrian tracks and past ego-vehicle positions, you will plan a safe trajectory for the ego-vehicle.\n",
    "\n",
    "Compared to the practica, we provide you freedom to choose among concepts that were discussed in the lectures.\n",
    "This means that we provide you with input data and define the required output format. The rest is up to your creativity and skill.\n",
    "\n",
    "\n",
    "## Grading\n",
    "The number of points allotted to the questions more or less corresponds to the time effort involved.\n",
    "\n",
    "The final grade of this assignment will consist of the following (to some degree) independent criteria:\n",
    "- Concepts (~30%)\n",
    "  - Specification of intended solution\n",
    "  - Proactive reflection\n",
    "  - Interpretation of experimental results\n",
    "  - Future work\n",
    "- Implementation (~40%)\n",
    "  - Covers the degree to which the earlier proposed concepts are implemented in the given task\n",
    "- Performance (~20%)\n",
    "  - Quantitative detection/tracking/motion planning performance (e.g. precision-recall, mAP)\n",
    "- Efficiency (~10%)\n",
    "  - Method complexity (efficiency of concept)\n",
    "  - Runtime (CPU run-time per frame)\n",
    "\n",
    "\n",
    "For grading, we will run the assignment notebooks in lexicographical order.\n",
    "We expect each notebook to run from top to bottom without errors.\n",
    "Please stick to the (de)serialization code we provide.\n",
    "\n",
    "For any programming task, we recommend to start implementing a basic concept and iteratively refining it, time permitting.\n",
    "You will be better off with a working implementation of a basic concept rather than with a fancy concept, which ends up non-working.\n",
    "\n",
    "You should visualize intermediate steps of your implementations to allow the graders to give you partial credit and ease the understanding of your approach.\n",
    "\n",
    "**Do not spend more than the total time allocated (32 hours) for this final assignment!**\n",
    "One could spend a massive amount of time to develop truly advanced solutions, but this is neither expected nor will this be favorable in terms of cost-benefit.\n",
    "There are also other courses to attend to, and having a break in the holiday period is important to regenerate. "
   ]
  },
  {
   "cell_type": "markdown",
   "id": "61a5e09b",
   "metadata": {
    "deletable": false,
    "editable": false,
    "nbgrader": {
     "cell_type": "markdown",
     "checksum": "9c32c4862f9a82b3399ccd1d23f8737e",
     "grade": false,
     "grade_id": "cell-8548ef86b20c14de",
     "locked": true,
     "points": 0,
     "schema_version": 3,
     "solution": false,
     "task": true
    }
   },
   "source": [
    "## Some final notes\n",
    "Please complete the assignment notebooks in the following lexicographic order, i.e.,\n",
    "- **MP and IV**  `fa_01a_data_visualization.ipynb`\n",
    "- **MP and IV**: `fa_02a_3d_pedestrian_detection_single_camera.ipynb`\n",
    "- **MP only**:   `fa_02b_mp_only_3d_pedestrian_detection_multiple_sensors.ipynb`\n",
    "- again, don't worry about the missing 03 :)\n",
    "- **IV only**:   `fa_04_iv_only_motion_planning.ipynb`\n",
    "\n",
    "\n",
    "\n",
    "\n",
    "### Code reuse\n",
    "You are encouraged to re-use code you implemented **in your own group** within the practica.\n",
    "E.g., you can import the function `project_points` from Practicum 1 by the statement `from ipynb.fs.defs.practicum1 import project_points`.\n",
    "It can be fixed implementations after you discussed the solutions within the practicum sessions.\n",
    "If you run into any errors when importing via `ipynb`, please make sure that you don't have variable names in the to-be-imported notebooks which consist of pure capital letters (such as `T`, or `XYZ`, but also `P2`).\n",
    "See [ipynb docs](https://ipynb.readthedocs.io/en/stable/#import-only-definitions).\n",
    "Sadly, the errors thrown by `ipynb` are not very helpful, so go check for syntactic errors and capital letter variables.\n",
    "Try restarting the kernel via `Kernel` -> `Restart and Clear Output` and run the code again starting from the topmost cell.\n",
    "You can also copy over code from the jupyter notebooks of your practica to the final assignment, but please mark them as such.\n",
    "\n",
    "You can use any python modules which are available in the conda `environment.yml` (and dependencies thereof).\n",
    "You are not allowed to use additional python modules/packages or have code modified outside the jupyter notebooks.\n",
    "If you think a change outside the jupyter notebooks makes sense, please get in contact with us (see below).\n",
    "\n",
    "### Questions\n",
    "Since this final assignment is part of the assessment, we will no longer answer methodical questions.\n",
    "If you have any other issues (unclarity in the phrasing of the task, bugs, data problems, infrastructural issues) please [get in contact with Ronald Ensing by email](mailto:R.M.Ensing@tudelft.nl).\n",
    "Do not use a Brightspace forum for the Final Assignment!"
   ]
  },
  {
   "cell_type": "code",
   "execution_count": null,
   "id": "1fc1639b",
   "metadata": {},
   "outputs": [],
   "source": []
  }
 ],
 "metadata": {
  "kernelspec": {
   "display_name": "Python 3",
   "language": "python",
   "name": "python3"
  },
  "language_info": {
   "codemirror_mode": {
    "name": "ipython",
    "version": 3
   },
   "file_extension": ".py",
   "mimetype": "text/x-python",
   "name": "python",
   "nbconvert_exporter": "python",
   "pygments_lexer": "ipython3",
   "version": "3.7.12"
  }
 },
 "nbformat": 4,
 "nbformat_minor": 5
}
